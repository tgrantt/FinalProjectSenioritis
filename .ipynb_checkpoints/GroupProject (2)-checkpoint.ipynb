{
 "cells": [
  {
   "cell_type": "code",
   "execution_count": 1,
   "metadata": {},
   "outputs": [],
   "source": [
    "import numpy as np\n",
    "import pandas as pd\n",
    "import requests\n",
    "import json \n",
    "import math\n",
    "import time\n",
    "import seaborn as sns\n",
    "from sklearn.preprocessing import LabelEncoder\n",
    "from sklearn.model_selection import train_test_split, cross_val_score\n",
    "from pandas import DataFrame\n",
    "from sklearn.ensemble import GradientBoostingRegressor\n",
    "from sklearn.metrics import mean_absolute_error\n",
    "import matplotlib.pyplot as plt\n",
    "from scipy.stats import pearsonr"
   ]
  },
  {
   "cell_type": "markdown",
   "metadata": {},
   "source": [
    "# Reads in Necessary CSV files"
   ]
  },
  {
   "cell_type": "code",
   "execution_count": 3,
   "metadata": {},
   "outputs": [
    {
     "ename": "ValueError",
     "evalue": "Length mismatch: Expected axis has 2 elements, new values have 3 elements",
     "output_type": "error",
     "traceback": [
      "\u001b[0;31m---------------------------------------------------------------------------\u001b[0m",
      "\u001b[0;31mValueError\u001b[0m                                Traceback (most recent call last)",
      "\u001b[0;32m<ipython-input-3-61c6c3cd59bf>\u001b[0m in \u001b[0;36m<module>\u001b[0;34m\u001b[0m\n\u001b[1;32m      1\u001b[0m \u001b[0mcitiesDf\u001b[0m \u001b[0;34m=\u001b[0m \u001b[0mpd\u001b[0m\u001b[0;34m.\u001b[0m\u001b[0mread_csv\u001b[0m\u001b[0;34m(\u001b[0m\u001b[0;34m\"bothCodesAndCities.csv\"\u001b[0m\u001b[0;34m)\u001b[0m\u001b[0;34m\u001b[0m\u001b[0;34m\u001b[0m\u001b[0m\n\u001b[0;32m----> 2\u001b[0;31m \u001b[0mcitiesDf\u001b[0m\u001b[0;34m.\u001b[0m\u001b[0mcolumns\u001b[0m \u001b[0;34m=\u001b[0m \u001b[0;34m[\u001b[0m\u001b[0;34m'City'\u001b[0m\u001b[0;34m,\u001b[0m\u001b[0;34m'Codes'\u001b[0m\u001b[0;34m,\u001b[0m\u001b[0;34m'Label'\u001b[0m\u001b[0;34m]\u001b[0m\u001b[0;34m\u001b[0m\u001b[0;34m\u001b[0m\u001b[0m\n\u001b[0m\u001b[1;32m      3\u001b[0m \u001b[0mDistance\u001b[0m \u001b[0;34m=\u001b[0m \u001b[0mpd\u001b[0m\u001b[0;34m.\u001b[0m\u001b[0mread_csv\u001b[0m\u001b[0;34m(\u001b[0m\u001b[0;34m'airports.csv'\u001b[0m\u001b[0;34m)\u001b[0m\u001b[0;34m\u001b[0m\u001b[0;34m\u001b[0m\u001b[0m\n\u001b[1;32m      4\u001b[0m \u001b[0mlabels\u001b[0m \u001b[0;34m=\u001b[0m \u001b[0mcitiesDf\u001b[0m\u001b[0;34m[\u001b[0m\u001b[0;34m'Label'\u001b[0m\u001b[0;34m]\u001b[0m\u001b[0;34m\u001b[0m\u001b[0;34m\u001b[0m\u001b[0m\n\u001b[1;32m      5\u001b[0m \u001b[0mDistance\u001b[0m\u001b[0;34m.\u001b[0m\u001b[0mcolumns\u001b[0m \u001b[0;34m=\u001b[0m \u001b[0;34m[\u001b[0m\u001b[0;34m'City_Name'\u001b[0m\u001b[0;34m,\u001b[0m\u001b[0;34m'Distance'\u001b[0m\u001b[0;34m]\u001b[0m\u001b[0;34m\u001b[0m\u001b[0;34m\u001b[0m\u001b[0m\n",
      "\u001b[0;32m/anaconda3/lib/python3.7/site-packages/pandas/core/generic.py\u001b[0m in \u001b[0;36m__setattr__\u001b[0;34m(self, name, value)\u001b[0m\n\u001b[1;32m   4387\u001b[0m         \u001b[0;32mtry\u001b[0m\u001b[0;34m:\u001b[0m\u001b[0;34m\u001b[0m\u001b[0;34m\u001b[0m\u001b[0m\n\u001b[1;32m   4388\u001b[0m             \u001b[0mobject\u001b[0m\u001b[0;34m.\u001b[0m\u001b[0m__getattribute__\u001b[0m\u001b[0;34m(\u001b[0m\u001b[0mself\u001b[0m\u001b[0;34m,\u001b[0m \u001b[0mname\u001b[0m\u001b[0;34m)\u001b[0m\u001b[0;34m\u001b[0m\u001b[0;34m\u001b[0m\u001b[0m\n\u001b[0;32m-> 4389\u001b[0;31m             \u001b[0;32mreturn\u001b[0m \u001b[0mobject\u001b[0m\u001b[0;34m.\u001b[0m\u001b[0m__setattr__\u001b[0m\u001b[0;34m(\u001b[0m\u001b[0mself\u001b[0m\u001b[0;34m,\u001b[0m \u001b[0mname\u001b[0m\u001b[0;34m,\u001b[0m \u001b[0mvalue\u001b[0m\u001b[0;34m)\u001b[0m\u001b[0;34m\u001b[0m\u001b[0;34m\u001b[0m\u001b[0m\n\u001b[0m\u001b[1;32m   4390\u001b[0m         \u001b[0;32mexcept\u001b[0m \u001b[0mAttributeError\u001b[0m\u001b[0;34m:\u001b[0m\u001b[0;34m\u001b[0m\u001b[0;34m\u001b[0m\u001b[0m\n\u001b[1;32m   4391\u001b[0m             \u001b[0;32mpass\u001b[0m\u001b[0;34m\u001b[0m\u001b[0;34m\u001b[0m\u001b[0m\n",
      "\u001b[0;32mpandas/_libs/properties.pyx\u001b[0m in \u001b[0;36mpandas._libs.properties.AxisProperty.__set__\u001b[0;34m()\u001b[0m\n",
      "\u001b[0;32m/anaconda3/lib/python3.7/site-packages/pandas/core/generic.py\u001b[0m in \u001b[0;36m_set_axis\u001b[0;34m(self, axis, labels)\u001b[0m\n\u001b[1;32m    644\u001b[0m \u001b[0;34m\u001b[0m\u001b[0m\n\u001b[1;32m    645\u001b[0m     \u001b[0;32mdef\u001b[0m \u001b[0m_set_axis\u001b[0m\u001b[0;34m(\u001b[0m\u001b[0mself\u001b[0m\u001b[0;34m,\u001b[0m \u001b[0maxis\u001b[0m\u001b[0;34m,\u001b[0m \u001b[0mlabels\u001b[0m\u001b[0;34m)\u001b[0m\u001b[0;34m:\u001b[0m\u001b[0;34m\u001b[0m\u001b[0;34m\u001b[0m\u001b[0m\n\u001b[0;32m--> 646\u001b[0;31m         \u001b[0mself\u001b[0m\u001b[0;34m.\u001b[0m\u001b[0m_data\u001b[0m\u001b[0;34m.\u001b[0m\u001b[0mset_axis\u001b[0m\u001b[0;34m(\u001b[0m\u001b[0maxis\u001b[0m\u001b[0;34m,\u001b[0m \u001b[0mlabels\u001b[0m\u001b[0;34m)\u001b[0m\u001b[0;34m\u001b[0m\u001b[0;34m\u001b[0m\u001b[0m\n\u001b[0m\u001b[1;32m    647\u001b[0m         \u001b[0mself\u001b[0m\u001b[0;34m.\u001b[0m\u001b[0m_clear_item_cache\u001b[0m\u001b[0;34m(\u001b[0m\u001b[0;34m)\u001b[0m\u001b[0;34m\u001b[0m\u001b[0;34m\u001b[0m\u001b[0m\n\u001b[1;32m    648\u001b[0m \u001b[0;34m\u001b[0m\u001b[0m\n",
      "\u001b[0;32m/anaconda3/lib/python3.7/site-packages/pandas/core/internals.py\u001b[0m in \u001b[0;36mset_axis\u001b[0;34m(self, axis, new_labels)\u001b[0m\n\u001b[1;32m   3321\u001b[0m             raise ValueError(\n\u001b[1;32m   3322\u001b[0m                 \u001b[0;34m'Length mismatch: Expected axis has {old} elements, new '\u001b[0m\u001b[0;34m\u001b[0m\u001b[0;34m\u001b[0m\u001b[0m\n\u001b[0;32m-> 3323\u001b[0;31m                 'values have {new} elements'.format(old=old_len, new=new_len))\n\u001b[0m\u001b[1;32m   3324\u001b[0m \u001b[0;34m\u001b[0m\u001b[0m\n\u001b[1;32m   3325\u001b[0m         \u001b[0mself\u001b[0m\u001b[0;34m.\u001b[0m\u001b[0maxes\u001b[0m\u001b[0;34m[\u001b[0m\u001b[0maxis\u001b[0m\u001b[0;34m]\u001b[0m \u001b[0;34m=\u001b[0m \u001b[0mnew_labels\u001b[0m\u001b[0;34m\u001b[0m\u001b[0;34m\u001b[0m\u001b[0m\n",
      "\u001b[0;31mValueError\u001b[0m: Length mismatch: Expected axis has 2 elements, new values have 3 elements"
     ]
    }
   ],
   "source": [
    "citiesDf = pd.read_csv(\"bothCodesAndCities.csv\")\n",
    "citiesDf.columns = ['City','Codes','Label']\n",
    "Distance = pd.read_csv('airports.csv')\n",
    "labels = citiesDf['Label']\n",
    "Distance.columns = ['City_Name','Distance']\n",
    "cityList = Distance['City_Name'].tolist()\n",
    "miles = Distance['Distance'].tolist()\n",
    "cityList = Distance['City_Name'].tolist()\n",
    "cityList[13] = 'Honolulu'\n",
    "cityList[41] = \"Hong Kong\"\n",
    "airportName = citiesDf['Codes'].tolist()\n",
    "df1 = pd.read_csv('Begginning.csv')\n",
    "df2 = pd.read_csv('last.csv')\n",
    "df3 = pd.read_csv('midData.csv')"
   ]
  },
  {
   "cell_type": "markdown",
   "metadata": {},
   "source": [
    "# Makes Data Frame"
   ]
  },
  {
   "cell_type": "code",
   "execution_count": 3,
   "metadata": {},
   "outputs": [],
   "source": [
    "finalDf = pd.concat([df1,df2,df3], axis = 0)\n",
    "finalDf = finalDf.reset_index()\n",
    "finalDf = finalDf.drop('index', axis=1)\n",
    "finalDf = finalDf.drop('Unnamed: 0', axis=1)"
   ]
  },
  {
   "cell_type": "code",
   "execution_count": 4,
   "metadata": {},
   "outputs": [],
   "source": [
    "#Changes Date to number a number\n",
    "def dateChanger(date):\n",
    "    if date[5:7] == \"01\":\n",
    "        day = int(date[8:10])\n",
    "    elif date[5:7] == \"02\":\n",
    "        day = int(date[8:10]) + 31\n",
    "    elif date[5:7] == \"03\":\n",
    "        day = int(date[8:10]) + 31 + 28\n",
    "    elif date[5:7] == \"04\":\n",
    "        day = int(date[8:10]) + 31 + 28 + 31\n",
    "    elif date[5:7] == \"05\":\n",
    "        day = int(date[8:10]) + 31 + 28 + 31 + 30\n",
    "    elif date[5:7] == \"06\":\n",
    "        day = int(date[8:10]) + 31 + 28 + 31 + 30 + 31\n",
    "    elif date[5:7] == \"07\":\n",
    "        day = int(date[8:10]) + 31 + 28 + 31 + 30 + 31 + 30\n",
    "    elif date[5:7] == \"08\":\n",
    "        day = int(date[8:10]) + 31 + 28 + 31 + 30 + 31 + 30 + 31\n",
    "    elif date[5:7] == \"09\":\n",
    "        day = int(date[8:10]) + 31 + 28 + 31 + 30 + 31 + 30 + 31 + 31\n",
    "    elif date[5:7] == \"10\":\n",
    "        day = int(date[8:10]) + 31 + 28 + 31 + 30 + 31 + 30 + 31 + 31 + 30\n",
    "    elif date[5:7] == \"11\":\n",
    "        day = int(date[8:10]) + 31 + 28 + 31 + 30 + 31 + 30 + 31 + 31 + 30 + 31\n",
    "    elif date[5:7] == \"12\":\n",
    "        day = int(date[8:10]) + 31 + 28 + 31 + 30 + 31 + 30 + 31 + 31 + 30 + 31 + 30\n",
    "    else:\n",
    "        day = -500\n",
    "    return(day)"
   ]
  },
  {
   "cell_type": "code",
   "execution_count": 5,
   "metadata": {},
   "outputs": [],
   "source": [
    "#Changes date to number of days\n",
    "Date = finalDf['Flight Date'].tolist()\n",
    "newDate = []\n",
    "for i in range(len(Date)):\n",
    "    newDate.append(dateChanger(Date[i]))\n",
    "finalDf['Flight Date in days'] = pd.Series(newDate)"
   ]
  },
  {
   "cell_type": "code",
   "execution_count": 6,
   "metadata": {},
   "outputs": [],
   "source": [
    "#Makes Dictionary\n",
    "dicts = {}\n",
    "dicts2 = {}\n",
    "keys = cityList\n",
    "values = miles\n",
    "values2 = labels\n",
    "for i in range(len(keys)):\n",
    "    Key = keys[i]\n",
    "    dicts[Key] = values[i]\n",
    "    dicts2[Key] = values2[i]\n",
    "Destination = finalDf['Destination'].tolist()\n",
    "newDest = []\n",
    "newLabel = []\n",
    "for i in range(len(Destination)):\n",
    "    newDest.append(dicts[Destination[i]])\n",
    "    newLabel.append(dicts2[Destination[i]])\n",
    "finalDf['Distance in miles'] = pd.Series(newDest)\n",
    "finalDf['Label'] = pd.Series(newLabel)"
   ]
  },
  {
   "cell_type": "code",
   "execution_count": 25,
   "metadata": {},
   "outputs": [],
   "source": [
    "#Finds Geodesic Distance\n",
    "def geodesicDistance(coord1, coord2):\n",
    "    R = 3958.8  # Earth radius in miles\n",
    "    latitude1 = float(coord1[0])\n",
    "    latitude2 = float(coord2[0])\n",
    "    longitude1 = float(coord1[1])\n",
    "    longitude2 = float(coord2[1])\n",
    "    phi1 = math.radians(latitude1)\n",
    "    phi2 = math.radians(latitude2)\n",
    "    dphi = math.radians(latitude2 - latitude1)\n",
    "    dlambda  = math.radians(longitude2 - longitude1)\n",
    "    #Finds the distance between two points in a curve\n",
    "    a = math.sin(dphi/2)**2 + math.cos(phi1)*math.cos(phi2)*math.sin(dlambda/2)**2\n",
    "    distance = 2*R*math.atan2(math.sqrt(a), math.sqrt(1 - a))\n",
    "    return(distance)"
   ]
  },
  {
   "cell_type": "markdown",
   "metadata": {},
   "source": [
    "# Introduction"
   ]
  },
  {
   "cell_type": "markdown",
   "metadata": {},
   "source": [
    "The main goals of this analysis is to predict airline tickets from LA and find the most important features in predicting airline ticket price. "
   ]
  },
  {
   "cell_type": "markdown",
   "metadata": {},
   "source": [
    "Our motivation for doing this analysis is because we have families abroad which we want to visit. Since we are college students\n",
    "who need to save monety, it's in our best interest to plan in advance and know when to purchase our ticket when it's at its lowest prices."
   ]
  },
  {
   "cell_type": "markdown",
   "metadata": {},
   "source": [
    "# How Data was collected"
   ]
  },
  {
   "cell_type": "markdown",
   "metadata": {},
   "source": [
    "We used the SkyScanner Api in order to get quotes on flights from one airport to another. In this case, we chose the Los Angeles International Airport (LAX) airport as a fixed \"home\" airport and obtained quotes from this airport to various destination around the globe using the API."
   ]
  },
  {
   "cell_type": "markdown",
   "metadata": {},
   "source": [
    "To keep our data manageable, we chose 33 domestics locations and 33 international locations as our destinations. We then attempted to pull airline price quotes for all 66 locations for 1 year starting December December 17th 2019 to December 21st 2020."
   ]
  },
  {
   "cell_type": "markdown",
   "metadata": {},
   "source": [
    "# EDA"
   ]
  },
  {
   "cell_type": "code",
   "execution_count": 7,
   "metadata": {},
   "outputs": [
    {
     "data": {
      "image/png": "[encoded data removed]",
      "text/plain": [
       "<Figure size 432x288 with 1 Axes>"
      ]
     },
     "metadata": {
      "needs_background": "light"
     },
     "output_type": "display_data"
    }
   ],
   "source": [
    "#Plot is right skewed\n",
    "fig, ax = plt.subplots()\n",
    "ax= sns.distplot(finalDf['Price'])\n",
    "fig.savefig(\"Figs/skewedPrice.png\")"
   ]
  },
  {
   "cell_type": "code",
   "execution_count": 8,
   "metadata": {},
   "outputs": [
    {
     "data": {
      "image/png": "[encoded data removed]",
      "text/plain": [
       "<Figure size 432x288 with 1 Axes>"
      ]
     },
     "metadata": {
      "needs_background": "light"
     },
     "output_type": "display_data"
    }
   ],
   "source": [
    "#Transformed plot looks better in terms of normality\n",
    "price = [math.log(i) for i in finalDf['Price']]\n",
    "finalDf['logPrice'] = pd.Series(price)\n",
    "fig, ax = plt.subplots()\n",
    "ax = sns.distplot(finalDf['logPrice'])\n",
    "fig.savefig(\"Figs/NormalPrice.png\")"
   ]
  },
  {
   "cell_type": "markdown",
   "metadata": {},
   "source": [
    "**Correlation Coefficients between Target and Features**"
   ]
  },
  {
   "cell_type": "markdown",
   "metadata": {},
   "source": [
    "Note that both correlation values are low but it seems that the date a plane leaves has more impact than the distance a plane flies"
   ]
  },
  {
   "cell_type": "code",
   "execution_count": 12,
   "metadata": {},
   "outputs": [
    {
     "name": "stdout",
     "output_type": "stream",
     "text": [
      "0.19990533606595265\n",
      "0.37634487277117823\n"
     ]
    }
   ],
   "source": [
    "corrDistance  = pearsonr(finalDf['Distance in miles'], finalDf['Price'])\n",
    "corrDays = pearsonr(finalDf['Flight Date in days'], finalDf['Price'])\n",
    "print(corrDays[0])\n",
    "print(corrDistance[0])"
   ]
  },
  {
   "cell_type": "markdown",
   "metadata": {},
   "source": [
    "**Interesting Data Summaries**"
   ]
  },
  {
   "cell_type": "markdown",
   "metadata": {},
   "source": [
    "**Mean prices of Domestic Flights for each carrier**"
   ]
  },
  {
   "cell_type": "markdown",
   "metadata": {},
   "source": [
    "**Note that Southwest is an outlier, API only gave qoutes for an expensive route that Southwest uses. (LAX to Rockford)**"
   ]
  },
  {
   "cell_type": "code",
   "execution_count": 13,
   "metadata": {},
   "outputs": [
    {
     "data": {
      "text/html": [
       "<div>\n",
       "<style scoped>\n",
       "    .dataframe tbody tr th:only-of-type {\n",
       "        vertical-align: middle;\n",
       "    }\n",
       "\n",
       "    .dataframe tbody tr th {\n",
       "        vertical-align: top;\n",
       "    }\n",
       "\n",
       "    .dataframe thead th {\n",
       "        text-align: right;\n",
       "    }\n",
       "</style>\n",
       "<table border=\"1\" class=\"dataframe\">\n",
       "  <thead>\n",
       "    <tr style=\"text-align: right;\">\n",
       "      <th></th>\n",
       "      <th>Carrier</th>\n",
       "      <th>Price</th>\n",
       "    </tr>\n",
       "  </thead>\n",
       "  <tbody>\n",
       "    <tr>\n",
       "      <th>0</th>\n",
       "      <td>Alaska Airlines</td>\n",
       "      <td>175.687023</td>\n",
       "    </tr>\n",
       "    <tr>\n",
       "      <th>1</th>\n",
       "      <td>Allegiant Air</td>\n",
       "      <td>87.500000</td>\n",
       "    </tr>\n",
       "    <tr>\n",
       "      <th>2</th>\n",
       "      <td>Frontier Airlines</td>\n",
       "      <td>92.882353</td>\n",
       "    </tr>\n",
       "    <tr>\n",
       "      <th>3</th>\n",
       "      <td>Hawaiian Airlines</td>\n",
       "      <td>207.312500</td>\n",
       "    </tr>\n",
       "    <tr>\n",
       "      <th>4</th>\n",
       "      <td>Linear Air</td>\n",
       "      <td>3662.000000</td>\n",
       "    </tr>\n",
       "    <tr>\n",
       "      <th>5</th>\n",
       "      <td>Southwest Airlines</td>\n",
       "      <td>1408.923077</td>\n",
       "    </tr>\n",
       "    <tr>\n",
       "      <th>6</th>\n",
       "      <td>Spirit Airlines</td>\n",
       "      <td>111.657895</td>\n",
       "    </tr>\n",
       "    <tr>\n",
       "      <th>7</th>\n",
       "      <td>Sun Country Airlines</td>\n",
       "      <td>183.333333</td>\n",
       "    </tr>\n",
       "    <tr>\n",
       "      <th>8</th>\n",
       "      <td>United</td>\n",
       "      <td>176.635036</td>\n",
       "    </tr>\n",
       "    <tr>\n",
       "      <th>9</th>\n",
       "      <td>jetBlue</td>\n",
       "      <td>158.315789</td>\n",
       "    </tr>\n",
       "  </tbody>\n",
       "</table>\n",
       "</div>"
      ],
      "text/plain": [
       "                Carrier        Price\n",
       "0       Alaska Airlines   175.687023\n",
       "1         Allegiant Air    87.500000\n",
       "2     Frontier Airlines    92.882353\n",
       "3     Hawaiian Airlines   207.312500\n",
       "4            Linear Air  3662.000000\n",
       "5    Southwest Airlines  1408.923077\n",
       "6       Spirit Airlines   111.657895\n",
       "7  Sun Country Airlines   183.333333\n",
       "8                United   176.635036\n",
       "9               jetBlue   158.315789"
      ]
     },
     "execution_count": 13,
     "metadata": {},
     "output_type": "execute_result"
    }
   ],
   "source": [
    "domestic = finalDf[finalDf['Label'] == \"D\"]\n",
    "domesticsPrice = domestic.groupby(['Carrier'])['Price'].mean()\n",
    "domesticsPrice  = domesticsPrice.reset_index()\n",
    "pd.DataFrame(domesticsPrice)"
   ]
  },
  {
   "cell_type": "markdown",
   "metadata": {},
   "source": [
    "**Mean Prices of International Flights for each Carrier**"
   ]
  },
  {
   "cell_type": "code",
   "execution_count": 14,
   "metadata": {},
   "outputs": [
    {
     "data": {
      "text/html": [
       "<div>\n",
       "<style scoped>\n",
       "    .dataframe tbody tr th:only-of-type {\n",
       "        vertical-align: middle;\n",
       "    }\n",
       "\n",
       "    .dataframe tbody tr th {\n",
       "        vertical-align: top;\n",
       "    }\n",
       "\n",
       "    .dataframe thead th {\n",
       "        text-align: right;\n",
       "    }\n",
       "</style>\n",
       "<table border=\"1\" class=\"dataframe\">\n",
       "  <thead>\n",
       "    <tr style=\"text-align: right;\">\n",
       "      <th></th>\n",
       "      <th>Carrier</th>\n",
       "      <th>Price</th>\n",
       "      <th>Distance in miles</th>\n",
       "    </tr>\n",
       "  </thead>\n",
       "  <tbody>\n",
       "    <tr>\n",
       "      <th>31</th>\n",
       "      <td>Iberia</td>\n",
       "      <td>2258.000000</td>\n",
       "      <td>5832.913562</td>\n",
       "    </tr>\n",
       "    <tr>\n",
       "      <th>7</th>\n",
       "      <td>Air India</td>\n",
       "      <td>2013.000000</td>\n",
       "      <td>5981.869437</td>\n",
       "    </tr>\n",
       "    <tr>\n",
       "      <th>13</th>\n",
       "      <td>Avianca (Scheduled)</td>\n",
       "      <td>1484.166667</td>\n",
       "      <td>5349.143207</td>\n",
       "    </tr>\n",
       "    <tr>\n",
       "      <th>38</th>\n",
       "      <td>Lufthansa</td>\n",
       "      <td>1296.842105</td>\n",
       "      <td>5812.138949</td>\n",
       "    </tr>\n",
       "    <tr>\n",
       "      <th>37</th>\n",
       "      <td>LOT</td>\n",
       "      <td>1096.000000</td>\n",
       "      <td>5978.377501</td>\n",
       "    </tr>\n",
       "  </tbody>\n",
       "</table>\n",
       "</div>"
      ],
      "text/plain": [
       "                Carrier        Price  Distance in miles\n",
       "31               Iberia  2258.000000        5832.913562\n",
       "7             Air India  2013.000000        5981.869437\n",
       "13  Avianca (Scheduled)  1484.166667        5349.143207\n",
       "38            Lufthansa  1296.842105        5812.138949\n",
       "37                  LOT  1096.000000        5978.377501"
      ]
     },
     "execution_count": 14,
     "metadata": {},
     "output_type": "execute_result"
    }
   ],
   "source": [
    "international = finalDf[finalDf['Label'] == \"I\"]\n",
    "internationalPrice = international.groupby(['Carrier'])['Price','Distance in miles'].mean()\n",
    "internationalPrice  = internationalPrice.reset_index()\n",
    "international = pd.DataFrame(internationalPrice)\n",
    "#5 most expensive airlines \n",
    "international.sort_values(by='Price', ascending=False).iloc[0:5,0:3]\n"
   ]
  },
  {
   "cell_type": "markdown",
   "metadata": {},
   "source": [
    "**Cheapest Day to fly**"
   ]
  },
  {
   "cell_type": "code",
   "execution_count": 42,
   "metadata": {},
   "outputs": [
    {
     "data": {
      "text/html": [
       "<div>\n",
       "<style scoped>\n",
       "    .dataframe tbody tr th:only-of-type {\n",
       "        vertical-align: middle;\n",
       "    }\n",
       "\n",
       "    .dataframe tbody tr th {\n",
       "        vertical-align: top;\n",
       "    }\n",
       "\n",
       "    .dataframe thead th {\n",
       "        text-align: right;\n",
       "    }\n",
       "</style>\n",
       "<table border=\"1\" class=\"dataframe\">\n",
       "  <thead>\n",
       "    <tr style=\"text-align: right;\">\n",
       "      <th></th>\n",
       "      <th>Flight Date in days</th>\n",
       "      <th>Price</th>\n",
       "    </tr>\n",
       "  </thead>\n",
       "  <tbody>\n",
       "    <tr>\n",
       "      <th>11</th>\n",
       "      <td>83</td>\n",
       "      <td>293.500000</td>\n",
       "    </tr>\n",
       "    <tr>\n",
       "      <th>7</th>\n",
       "      <td>56</td>\n",
       "      <td>296.637681</td>\n",
       "    </tr>\n",
       "    <tr>\n",
       "      <th>6</th>\n",
       "      <td>49</td>\n",
       "      <td>316.208955</td>\n",
       "    </tr>\n",
       "    <tr>\n",
       "      <th>8</th>\n",
       "      <td>62</td>\n",
       "      <td>317.123077</td>\n",
       "    </tr>\n",
       "    <tr>\n",
       "      <th>10</th>\n",
       "      <td>76</td>\n",
       "      <td>327.328358</td>\n",
       "    </tr>\n",
       "  </tbody>\n",
       "</table>\n",
       "</div>"
      ],
      "text/plain": [
       "    Flight Date in days       Price\n",
       "11                   83  293.500000\n",
       "7                    56  296.637681\n",
       "6                    49  316.208955\n",
       "8                    62  317.123077\n",
       "10                   76  327.328358"
      ]
     },
     "execution_count": 42,
     "metadata": {},
     "output_type": "execute_result"
    }
   ],
   "source": [
    "A = finalDf.groupby(['Flight Date in days'])['Price'].mean()\n",
    "A  = A.reset_index()\n",
    "#5 most Expensive day to Fly\n",
    "A.sort_values(by='Price', ascending=False).iloc[0:5,0:3]"
   ]
  },
  {
   "cell_type": "markdown",
   "metadata": {},
   "source": [
    "**Most Expensive Day to fly**"
   ]
  },
  {
   "cell_type": "code",
   "execution_count": 43,
   "metadata": {},
   "outputs": [
    {
     "data": {
      "text/html": [
       "<div>\n",
       "<style scoped>\n",
       "    .dataframe tbody tr th:only-of-type {\n",
       "        vertical-align: middle;\n",
       "    }\n",
       "\n",
       "    .dataframe tbody tr th {\n",
       "        vertical-align: top;\n",
       "    }\n",
       "\n",
       "    .dataframe thead th {\n",
       "        text-align: right;\n",
       "    }\n",
       "</style>\n",
       "<table border=\"1\" class=\"dataframe\">\n",
       "  <thead>\n",
       "    <tr style=\"text-align: right;\">\n",
       "      <th></th>\n",
       "      <th>Flight Date in days</th>\n",
       "      <th>Price</th>\n",
       "    </tr>\n",
       "  </thead>\n",
       "  <tbody>\n",
       "    <tr>\n",
       "      <th>11</th>\n",
       "      <td>83</td>\n",
       "      <td>293.500000</td>\n",
       "    </tr>\n",
       "    <tr>\n",
       "      <th>7</th>\n",
       "      <td>56</td>\n",
       "      <td>296.637681</td>\n",
       "    </tr>\n",
       "    <tr>\n",
       "      <th>6</th>\n",
       "      <td>49</td>\n",
       "      <td>316.208955</td>\n",
       "    </tr>\n",
       "    <tr>\n",
       "      <th>8</th>\n",
       "      <td>62</td>\n",
       "      <td>317.123077</td>\n",
       "    </tr>\n",
       "    <tr>\n",
       "      <th>10</th>\n",
       "      <td>76</td>\n",
       "      <td>327.328358</td>\n",
       "    </tr>\n",
       "  </tbody>\n",
       "</table>\n",
       "</div>"
      ],
      "text/plain": [
       "    Flight Date in days       Price\n",
       "11                   83  293.500000\n",
       "7                    56  296.637681\n",
       "6                    49  316.208955\n",
       "8                    62  317.123077\n",
       "10                   76  327.328358"
      ]
     },
     "execution_count": 43,
     "metadata": {},
     "output_type": "execute_result"
    }
   ],
   "source": [
    "A = finalDf.groupby(['Flight Date in days'])['Price'].mean()\n",
    "A  = A.reset_index()\n",
    "#5 Cheapest Day to Fly\n",
    "A.sort_values(by='Price', ascending=False).iloc[0:5,0:3]\n",
    "A.head()"
   ]
  },
  {
   "cell_type": "code",
   "execution_count": 15,
   "metadata": {},
   "outputs": [
    {
     "data": {
      "text/html": [
       "<div>\n",
       "<style scoped>\n",
       "    .dataframe tbody tr th:only-of-type {\n",
       "        vertical-align: middle;\n",
       "    }\n",
       "\n",
       "    .dataframe tbody tr th {\n",
       "        vertical-align: top;\n",
       "    }\n",
       "\n",
       "    .dataframe thead th {\n",
       "        text-align: right;\n",
       "    }\n",
       "</style>\n",
       "<table border=\"1\" class=\"dataframe\">\n",
       "  <thead>\n",
       "    <tr style=\"text-align: right;\">\n",
       "      <th></th>\n",
       "      <th>Carrier</th>\n",
       "      <th>Price</th>\n",
       "      <th>Distance in miles</th>\n",
       "    </tr>\n",
       "  </thead>\n",
       "  <tbody>\n",
       "    <tr>\n",
       "      <th>54</th>\n",
       "      <td>Volaris</td>\n",
       "      <td>123.450000</td>\n",
       "      <td>1553.451168</td>\n",
       "    </tr>\n",
       "    <tr>\n",
       "      <th>44</th>\n",
       "      <td>Royal Jordanian</td>\n",
       "      <td>134.333333</td>\n",
       "      <td>2171.411975</td>\n",
       "    </tr>\n",
       "    <tr>\n",
       "      <th>9</th>\n",
       "      <td>Air Tahiti Nui</td>\n",
       "      <td>139.000000</td>\n",
       "      <td>2171.411975</td>\n",
       "    </tr>\n",
       "    <tr>\n",
       "      <th>53</th>\n",
       "      <td>Viva Aerobus</td>\n",
       "      <td>142.611111</td>\n",
       "      <td>1553.451168</td>\n",
       "    </tr>\n",
       "    <tr>\n",
       "      <th>55</th>\n",
       "      <td>WestJet</td>\n",
       "      <td>182.594595</td>\n",
       "      <td>2171.411975</td>\n",
       "    </tr>\n",
       "  </tbody>\n",
       "</table>\n",
       "</div>"
      ],
      "text/plain": [
       "            Carrier       Price  Distance in miles\n",
       "54          Volaris  123.450000        1553.451168\n",
       "44  Royal Jordanian  134.333333        2171.411975\n",
       "9    Air Tahiti Nui  139.000000        2171.411975\n",
       "53     Viva Aerobus  142.611111        1553.451168\n",
       "55          WestJet  182.594595        2171.411975"
      ]
     },
     "execution_count": 15,
     "metadata": {},
     "output_type": "execute_result"
    }
   ],
   "source": [
    "#5 Cheapest airlines\n",
    "international.sort_values(by='Price', ascending=True).iloc[0:5,0:3]"
   ]
  },
  {
   "cell_type": "code",
   "execution_count": 16,
   "metadata": {},
   "outputs": [],
   "source": [
    "domesticDf = finalDf[finalDf['Label'] == \"D\"]\n",
    "days = domesticDf['Flight Date in days']\n",
    "subsetDf = domesticDf[['Carrier','Price','Flight Date in days']]\n",
    "subsetDf = subsetDf.reset_index() \n",
    "pivotDf = subsetDf.pivot(index = 'index',columns ='Carrier', values = ['Price'])\n"
   ]
  },
  {
   "cell_type": "code",
   "execution_count": 17,
   "metadata": {},
   "outputs": [],
   "source": [
    "def plotDf(countryDf,columnName):\n",
    "    destinationPrice = countryDf\n",
    "    destinationIndex = destinationPrice.index\n",
    "    destinationDates = days[destinationIndex]\n",
    "    destination = [columnName]*(len(destinationIndex))\n",
    "    Price = pd.Series(destinationPrice.tolist())\n",
    "    dates = pd.Series(destinationDates.tolist())\n",
    "    destination = pd.Series(destination)\n",
    "    newDf = pd.concat([Price,dates,destination], axis = 1)\n",
    "    newDf.columns = ['Price','Days','Carriers']\n",
    "    return(newDf)"
   ]
  },
  {
   "cell_type": "code",
   "execution_count": 18,
   "metadata": {},
   "outputs": [],
   "source": [
    "names = pivotDf.columns\n",
    "lineData = plotDf(pivotDf.iloc[:,0].dropna(),names[0][1])\n",
    "for i in range(9):\n",
    "    tempDf = plotDf(pivotDf.iloc[:,i].dropna(),names[i + 1][1])\n",
    "    lineData = pd.concat([lineData,tempDf],axis = 0)"
   ]
  },
  {
   "cell_type": "markdown",
   "metadata": {},
   "source": [
    "**Time series plot of prices with Domestic Carriers as hue**"
   ]
  },
  {
   "cell_type": "markdown",
   "metadata": {},
   "source": [
    "**Takes out South West and Spirit Airlines since they contain many outlier points**"
   ]
  },
  {
   "cell_type": "markdown",
   "metadata": {},
   "source": [
    "Note that in general, ticket prices tend to increase between the day 350 - 365 (December), days 80 - 100(March to April) and days 200 - 250(July - August)."
   ]
  },
  {
   "cell_type": "code",
   "execution_count": 19,
   "metadata": {},
   "outputs": [
    {
     "data": {
      "text/plain": [
       "<Figure size 720x720 with 0 Axes>"
      ]
     },
     "metadata": {},
     "output_type": "display_data"
    },
    {
     "data": {
      "image/png": "[encoded data removed]",
      "text/plain": [
       "<Figure size 432x288 with 1 Axes>"
      ]
     },
     "metadata": {
      "needs_background": "light"
     },
     "output_type": "display_data"
    }
   ],
   "source": [
    "noOutliers = lineData[lineData['Carriers'] != \"Spirit Airlines\"]\n",
    "noOutliers = noOutliers[(noOutliers['Carriers'] != \"Southwest Airlines\")]\n",
    "plt.figure(figsize=(10,10))\n",
    "fig, ax = plt.subplots()\n",
    "ax = sns.lineplot(x = 'Days',y = 'Price', hue = 'Carriers',data = noOutliers)\n",
    "fig.savefig(\"Figs/TSDomestic.png\")"
   ]
  },
  {
   "cell_type": "markdown",
   "metadata": {},
   "source": [
    "**Time series plot of prices with Foreign Carriers as hue**"
   ]
  },
  {
   "cell_type": "code",
   "execution_count": 32,
   "metadata": {},
   "outputs": [],
   "source": [
    "internationalDf = finalDf[finalDf['Label'] == \"I\"]\n",
    "days = internationalDf['Flight Date in days']\n",
    "subsetDf = internationalDf[['Carrier','Price','Flight Date in days']]\n",
    "subsetDf = subsetDf.reset_index() \n",
    "pivotDf = subsetDf.pivot(index = 'index',columns ='Carrier', values = ['Price'])"
   ]
  },
  {
   "cell_type": "code",
   "execution_count": 33,
   "metadata": {},
   "outputs": [],
   "source": [
    "names = pivotDf.columns\n",
    "lineData = plotDf(pivotDf.iloc[:,0].dropna(),names[0][1])\n",
    "for i in range(7):\n",
    "    tempDf = plotDf(pivotDf.iloc[:,i].dropna(),names[i + 1][1])\n",
    "    lineData = pd.concat([lineData,tempDf],axis = 0)"
   ]
  },
  {
   "cell_type": "markdown",
   "metadata": {},
   "source": [
    "In General, it's best to purchase plane tickets for international flights for the carriers mentioned below between days 1 and 130 (January - May). Prices tend to increase drastically between days 300 - 365 which corresponds to October to December"
   ]
  },
  {
   "cell_type": "code",
   "execution_count": 34,
   "metadata": {},
   "outputs": [
    {
     "data": {
      "text/plain": [
       "<Figure size 720x720 with 0 Axes>"
      ]
     },
     "metadata": {},
     "output_type": "display_data"
    },
    {
     "data": {
      "image/png": "[encoded data removed]",
      "text/plain": [
       "<Figure size 432x288 with 1 Axes>"
      ]
     },
     "metadata": {
      "needs_background": "light"
     },
     "output_type": "display_data"
    }
   ],
   "source": [
    "plt.figure(figsize=(10,10))\n",
    "fig, ax = plt.subplots()\n",
    "ax = sns.lineplot(x = 'Days',y = 'Price', hue = 'Carriers',data = lineData)\n",
    "fig.savefig(\"Figs/TSInternatinal.png\")"
   ]
  },
  {
   "cell_type": "code",
   "execution_count": 35,
   "metadata": {},
   "outputs": [],
   "source": [
    "names = pivotDf.columns\n",
    "lineData = plotDf(pivotDf.iloc[:,8].dropna(),names[8][1])\n",
    "for i in range(7):\n",
    "    tempDf = plotDf(pivotDf.iloc[:,i + 7].dropna(),names[i + 8][1])\n",
    "    lineData = pd.concat([lineData,tempDf],axis = 0)"
   ]
  },
  {
   "cell_type": "markdown",
   "metadata": {},
   "source": [
    "Similar to the plot above, prices for these carriers tend to be low between days 1 - 130 (January to May). Note however that the prices for the carriers seems to increase at days 130 - 160 which corresponds to May 10th to June 9th."
   ]
  },
  {
   "cell_type": "code",
   "execution_count": 37,
   "metadata": {},
   "outputs": [
    {
     "data": {
      "text/plain": [
       "<Figure size 720x720 with 0 Axes>"
      ]
     },
     "metadata": {},
     "output_type": "display_data"
    },
    {
     "data": {
      "image/png": "[encoded data removed]",
      "text/plain": [
       "<Figure size 432x288 with 1 Axes>"
      ]
     },
     "metadata": {
      "needs_background": "light"
     },
     "output_type": "display_data"
    }
   ],
   "source": [
    "lineData = lineData[lineData['Carriers'] != 'Alaska Airlines']\n",
    "plt.figure(figsize=(10,10))\n",
    "fig, ax = plt.subplots()\n",
    "ax = sns.lineplot(x = 'Days',y = 'Price', hue = 'Carriers',data = lineData)\n",
    "fig.savefig(\"Figs/TSInternatinal.png\")"
   ]
  },
  {
   "cell_type": "markdown",
   "metadata": {},
   "source": [
    "**Scatter plot of Distance and price with Domestic and International as hue**"
   ]
  },
  {
   "cell_type": "markdown",
   "metadata": {},
   "source": [
    "Note that there is Class skew in our data set since there is far more international flights than domestic flights."
   ]
  },
  {
   "cell_type": "code",
   "execution_count": 55,
   "metadata": {
    "scrolled": true
   },
   "outputs": [
    {
     "data": {
      "text/plain": [
       "<Figure size 720x720 with 0 Axes>"
      ]
     },
     "metadata": {},
     "output_type": "display_data"
    },
    {
     "data": {
      "image/png": "[encoded data removed]",
      "text/plain": [
       "<Figure size 432x288 with 1 Axes>"
      ]
     },
     "metadata": {
      "needs_background": "light"
     },
     "output_type": "display_data"
    }
   ],
   "source": [
    "plt.figure(figsize=(10,10))\n",
    "fig, ax = plt.subplots()\n",
    "ax = sns.scatterplot(x = 'Distance in miles',y = 'Price', hue = 'Label',data = finalDf)\n",
    "fig.savefig(\"Figs/ScatterPlotDistance.png\")"
   ]
  },
  {
   "cell_type": "markdown",
   "metadata": {},
   "source": [
    "As expected, Domestic flights are much cheaper than international flights. Note the both boxplots have outliers."
   ]
  },
  {
   "cell_type": "code",
   "execution_count": 188,
   "metadata": {},
   "outputs": [
    {
     "data": {
      "text/plain": [
       "<matplotlib.axes._subplots.AxesSubplot at 0x293c9595860>"
      ]
     },
     "execution_count": 188,
     "metadata": {},
     "output_type": "execute_result"
    },
    {
     "data": {
      "image/png": "[encoded data removed]",
      "text/plain": [
       "<Figure size 432x288 with 1 Axes>"
      ]
     },
     "metadata": {
      "needs_background": "light"
     },
     "output_type": "display_data"
    }
   ],
   "source": [
    "sns.boxplot(x=\"Label\", y=\"Price\", data=finalDf)"
   ]
  },
  {
   "cell_type": "markdown",
   "metadata": {},
   "source": [
    "# Feature Engineering"
   ]
  },
  {
   "cell_type": "markdown",
   "metadata": {},
   "source": [
    "**Creates Dummy variables for Destination and Carrier**"
   ]
  },
  {
   "cell_type": "code",
   "execution_count": 11,
   "metadata": {},
   "outputs": [],
   "source": [
    "labelencoder=LabelEncoder()\n",
    "labelC = labelencoder.fit_transform(finalDf['Carrier']).tolist()\n",
    "labelD = labelencoder.fit_transform(finalDf['Destination']).tolist()\n",
    "finalDf['Carrier'] = pd.Series(labelC)\n",
    "finalDf['Destination'] = pd.Series(labelD)"
   ]
  },
  {
   "cell_type": "markdown",
   "metadata": {},
   "source": [
    "**Subsets Data to the one needed for Machine learing**"
   ]
  },
  {
   "cell_type": "code",
   "execution_count": 36,
   "metadata": {},
   "outputs": [],
   "source": [
    "Features = finalDf[['Carrier','Flight Date in days','Distance in miles','Direct','Destination']]\n",
    "Target = finalDf['logPrice'].tolist()"
   ]
  },
  {
   "cell_type": "markdown",
   "metadata": {},
   "source": [
    "# Test-Train Split"
   ]
  },
  {
   "cell_type": "code",
   "execution_count": 37,
   "metadata": {},
   "outputs": [],
   "source": [
    "xTrainData,xTestData,yTrainData,yTestData = train_test_split(Features,Target, test_size = 0.30, \n",
    "  random_state = 801)"
   ]
  },
  {
   "cell_type": "markdown",
   "metadata": {},
   "source": [
    "# Models "
   ]
  },
  {
   "cell_type": "markdown",
   "metadata": {},
   "source": [
    "**Boosting**"
   ]
  },
  {
   "cell_type": "code",
   "execution_count": 52,
   "metadata": {},
   "outputs": [
    {
     "data": {
      "text/plain": [
       "GradientBoostingRegressor(alpha=0.9, criterion='friedman_mse', init=None,\n",
       "             learning_rate=0.5, loss='lad', max_depth=3, max_features=None,\n",
       "             max_leaf_nodes=None, min_impurity_decrease=0.0,\n",
       "             min_impurity_split=None, min_samples_leaf=1,\n",
       "             min_samples_split=2, min_weight_fraction_leaf=0.0,\n",
       "             n_estimators=500, n_iter_no_change=None, presort='auto',\n",
       "             random_state=None, subsample=1.0, tol=0.0001,\n",
       "             validation_fraction=0.1, verbose=0, warm_start=False)"
      ]
     },
     "execution_count": 52,
     "metadata": {},
     "output_type": "execute_result"
    }
   ],
   "source": [
    "boosting = GradientBoostingRegressor(loss = 'lad', n_estimators = 500,learning_rate = 0.5)\n",
    "boosting.fit(xTrainData,yTrainData)"
   ]
  },
  {
   "cell_type": "code",
   "execution_count": 53,
   "metadata": {},
   "outputs": [
    {
     "name": "stdout",
     "output_type": "stream",
     "text": [
      "Mean Error:  0.18874162139835648\n"
     ]
    }
   ],
   "source": [
    "yPredict = boosting.predict(xTestData)\n",
    "meanError = mean_absolute_error(yTestData,yPredict)\n",
    "print(\"Mean Error: \", meanError)"
   ]
  },
  {
   "cell_type": "code",
   "execution_count": null,
   "metadata": {},
   "outputs": [],
   "source": []
  },
  {
   "cell_type": "markdown",
   "metadata": {},
   "source": [
    "# Summary and Findings"
   ]
  },
  {
   "cell_type": "code",
   "execution_count": null,
   "metadata": {},
   "outputs": [],
   "source": []
  },
  {
   "cell_type": "markdown",
   "metadata": {},
   "source": [
    "# Code that was used to gather Data"
   ]
  },
  {
   "cell_type": "markdown",
   "metadata": {},
   "source": [
    "# SkyScanner API"
   ]
  },
  {
   "cell_type": "markdown",
   "metadata": {},
   "source": [
    "**Before using API**"
   ]
  },
  {
   "cell_type": "markdown",
   "metadata": {},
   "source": [
    "1) Make an account with https://rapidapi.com \n",
    "2) Go to this link: https://rapidapi.com/skyscanner/api/skyscanner-flight-search, click on the pricing tab and select basic( the free option). After this, click on the test endpoint. Make sure the status code is 200\n",
    "3) Go to this link: https://rapidapi.com/dev132/api/city-geo-location-lookup, click on the test endpoint tab. Make sure the status code is 200.\n",
    "4) If your status code 200 for both, copy your api key (Beside the X-RapidAPI-Key under the header parameters tab).\n",
    "5) Store this as 'x-rapidapi-key':\"Your api-key\"\n",
    "6) Before running the generateRequest function and the requestGenerator function, put your api key in the header bracket."
   ]
  },
  {
   "cell_type": "markdown",
   "metadata": {},
   "source": [
    "**Makes Data frame with price, carrier and Layover as features**"
   ]
  },
  {
   "cell_type": "code",
   "execution_count": 35,
   "metadata": {},
   "outputs": [],
   "source": [
    "#Find the corresponding airport for each city\n",
    "airportName = citiesDf['Codes'].tolist()\n",
    "airportName = airportName[0:22]\n",
    "cityList = cityList[0:22]\n",
    "date = ['2019-12-17','2019-12-24','2019-12-31','2020-01-07','2020-01-14','2020-01-21','2020-01-28','2020-02-04',\n",
    "       '2020-02-11','2020-02-18','2020-02-25','2020-03-03','2020-03-10','2020-03-17','2020-03-24','2020-03-31',\n",
    "       '2020-04-07','2020-04-14','2020-04-21','2020-04-28','2020-05-05','2020-05-12','2020-05-19','2020-05-26',\n",
    "       '2020-06-02','2020-06-09','2020-06-16','2020-06-23','2020-06-30','2020-07-07','2020-07-14','2020-07-21',\n",
    "       '2020-07-28','2020-08-04','2020-08-11','2020-08-18','2020-08-25','2020-09-01','2020-09-08','2020-09-15',\n",
    "       '2020-09-22','2020-09-22','2020-09-29','2020-10-06','2020-10-13','2020-10-20','2020-10-27','2020-11-03',\n",
    "       '2020-11-10','2020-11-17','2020-11-24','2020-12-01','2020-12-08','2020-12-15','2020-12-22','2020-12-29']"
   ]
  },
  {
   "cell_type": "code",
   "execution_count": 42,
   "metadata": {},
   "outputs": [],
   "source": [
    "def generateRequest(airport,date):\n",
    "    url1 = \"https://skyscanner-skyscanner-flight-search-v1.p.rapidapi.com/apiservices/browsequotes/v1.0/US/USD/en-US/LAX/\"\n",
    "    url2 = airport + \"/\"\n",
    "    url3 = date\n",
    "    url = url1 + url2 + url3\n",
    "    headers = {'x-rapidapi-host': \"skyscanner-skyscanner-flight-search-v1.p.rapidapi.com\",\n",
    "    'x-rapidapi-key': \"84e4c6c1a0msh8c02297f59e03fdp170b8fjsn682e57da4f5d\"}#Put yout api key here\n",
    "    jsonFile = requests.request(\"GET\", url, headers=headers)\n",
    "    if jsonFile.status_code == 200:\n",
    "        statusCode = 0\n",
    "    else:\n",
    "        statusCode = 1\n",
    "    jsonFile = requests.request(\"GET\", url, headers=headers).json()\n",
    "    returnVal = [statusCode,jsonFile]\n",
    "    return(returnVal)"
   ]
  },
  {
   "cell_type": "code",
   "execution_count": 41,
   "metadata": {},
   "outputs": [],
   "source": [
    "def generateDataFrame(jsonFile,destination,date):\n",
    "    data = [['Delete me', 'Delete me','Delete me','Delete me','Delete me']] \n",
    "    dataFrame = pd.DataFrame(data, columns = ['Price', 'Carrier','Direct','Destination','Flight Date']) \n",
    "    for i in range(len(jsonFile['Quotes'])):\n",
    "        price = jsonFile['Quotes'][i]['MinPrice']\n",
    "        direct = jsonFile['Quotes'][i]['Direct']\n",
    "        carrier = jsonFile['Quotes'][i]['OutboundLeg']['CarrierIds'][0]\n",
    "        #Get Carriers:\n",
    "        carrierNum = []\n",
    "        carrierName = []\n",
    "        for i in range(len(jsonFile['Carriers'])):\n",
    "            carrierNum.append(jsonFile['Carriers'][i]['CarrierId'])\n",
    "            carrierName.append(jsonFile['Carriers'][i]['Name'])\n",
    "        #Makes dictionaries with relevant info\n",
    "        dicts = {'Price': price,'Carrier':carrierName[carrierNum.index(carrier)],'Direct': direct,'Destination': destination,'Flight Date': date}\n",
    "        #Makes dataframe\n",
    "        tempDf = pd.DataFrame(dicts, index=[0])\n",
    "        dataFrame = pd.concat([dataFrame,tempDf],axis = 0)\n",
    "    dataFrame = dataFrame.reset_index()\n",
    "    dataFrame = dataFrame.drop(dataFrame.index[0])\n",
    "    dataFrame = dataFrame.reset_index()\n",
    "    dataFrame = dataFrame.drop('level_0', axis=1)\n",
    "    dataFrame = dataFrame.drop('index', axis=1)\n",
    "    return(dataFrame)"
   ]
  },
  {
   "cell_type": "code",
   "execution_count": 38,
   "metadata": {},
   "outputs": [],
   "source": [
    "def finalDfGenerator(airport,iterator):\n",
    "    data = [['Delete me', 'Delete me','Delete me','Delete me','Delete me']] \n",
    "    finalDf = pd.DataFrame(data, columns = ['Price', 'Carrier','Direct','Destination','Flight Date']) \n",
    "    toKeepCity = []\n",
    "    destination = []\n",
    "    flightDate = []\n",
    "    qouteStatus = 0\n",
    "    counter = 0\n",
    "    for i in range(len(date)):\n",
    "        counter = counter + 1\n",
    "        returnVal = generateRequest(airport,date[i])\n",
    "        statusCode = returnVal[0]\n",
    "        json = returnVal[1]\n",
    "        if statusCode == 0:\n",
    "            print(counter)\n",
    "            if 'message' in json:\n",
    "                print(\"Exceeded API limit, resting for 1 minute\")\n",
    "                time.sleep(60)\n",
    "            else:\n",
    "                if (len(json['Quotes']) != 0 & counter <= 48):\n",
    "                    tempDf = generateDataFrame(json,cityList[iterator],date[i])\n",
    "                    finalDf = pd.concat([finalDf,tempDf],axis = 0)\n",
    "        if counter == 48:\n",
    "            counter = 0\n",
    "            time.sleep(60)\n",
    "        else:\n",
    "            continue\n",
    "    iterator = iterator + 1\n",
    "    finalDf = finalDf.reset_index()\n",
    "    finalDf = finalDf.drop(finalDf.index[0])\n",
    "    finalDf = finalDf.reset_index()\n",
    "    finalDf = finalDf.drop('level_0', axis=1)\n",
    "    finalDf = finalDf.drop('index', axis=1)\n",
    "    return(finalDf)"
   ]
  },
  {
   "cell_type": "code",
   "execution_count": 43,
   "metadata": {},
   "outputs": [
    {
     "name": "stdout",
     "output_type": "stream",
     "text": [
      "1\n",
      "2\n",
      "3\n",
      "4\n",
      "5\n",
      "6\n",
      "7\n",
      "8\n",
      "9\n",
      "10\n",
      "11\n",
      "12\n",
      "13\n",
      "14\n",
      "15\n",
      "16\n",
      "17\n",
      "18\n",
      "19\n",
      "20\n",
      "21\n",
      "22\n",
      "23\n",
      "24\n",
      "25\n",
      "26\n",
      "Exceeded API limit, resting for 1 minute\n",
      "27\n",
      "28\n",
      "29\n",
      "30\n",
      "31\n",
      "32\n",
      "33\n",
      "34\n",
      "35\n",
      "36\n",
      "37\n",
      "38\n",
      "39\n",
      "40\n",
      "41\n",
      "42\n",
      "43\n",
      "44\n",
      "45\n",
      "46\n",
      "47\n",
      "48\n",
      "1\n",
      "2\n",
      "3\n",
      "4\n",
      "5\n",
      "6\n",
      "7\n",
      "8\n",
      "1\n",
      "2\n",
      "3\n",
      "4\n",
      "5\n",
      "6\n",
      "7\n",
      "8\n",
      "9\n",
      "10\n",
      "11\n",
      "12\n",
      "13\n",
      "14\n",
      "15\n",
      "16\n",
      "17\n",
      "18\n",
      "19\n",
      "20\n",
      "21\n",
      "22\n",
      "Exceeded API limit, resting for 1 minute\n",
      "23\n",
      "24\n",
      "25\n",
      "26\n",
      "27\n",
      "28\n",
      "29\n",
      "30\n",
      "31\n",
      "32\n",
      "33\n",
      "34\n",
      "35\n",
      "36\n",
      "37\n",
      "38\n",
      "39\n",
      "40\n",
      "41\n",
      "42\n",
      "43\n",
      "44\n",
      "45\n",
      "46\n",
      "1\n",
      "2\n",
      "3\n",
      "4\n",
      "5\n",
      "6\n",
      "7\n",
      "8\n",
      "1\n",
      "2\n",
      "3\n",
      "4\n",
      "5\n",
      "6\n",
      "7\n",
      "8\n",
      "9\n",
      "10\n",
      "11\n",
      "12\n",
      "13\n",
      "14\n",
      "15\n",
      "16\n",
      "17\n",
      "18\n",
      "1\n",
      "2\n",
      "3\n",
      "4\n",
      "5\n",
      "6\n",
      "7\n",
      "8\n",
      "1\n",
      "2\n",
      "3\n",
      "4\n",
      "5\n",
      "6\n",
      "7\n",
      "8\n",
      "9\n",
      "10\n",
      "11\n",
      "12\n",
      "13\n",
      "14\n",
      "15\n",
      "16\n",
      "17\n",
      "18\n",
      "19\n",
      "20\n",
      "21\n",
      "22\n",
      "23\n",
      "24\n",
      "25\n",
      "Exceeded API limit, resting for 1 minute\n",
      "26\n",
      "27\n",
      "28\n",
      "29\n",
      "30\n",
      "31\n",
      "32\n",
      "33\n",
      "34\n",
      "35\n",
      "36\n",
      "37\n",
      "38\n",
      "39\n",
      "40\n",
      "41\n",
      "42\n",
      "43\n",
      "44\n",
      "45\n",
      "46\n",
      "47\n",
      "48\n",
      "1\n",
      "2\n",
      "3\n",
      "4\n",
      "5\n",
      "6\n",
      "7\n",
      "8\n",
      "1\n",
      "2\n",
      "3\n",
      "4\n",
      "5\n",
      "6\n",
      "7\n",
      "8\n",
      "9\n",
      "10\n",
      "11\n",
      "12\n",
      "13\n",
      "14\n",
      "1\n",
      "2\n",
      "3\n",
      "4\n",
      "5\n",
      "6\n",
      "7\n",
      "8\n",
      "1\n",
      "2\n",
      "3\n",
      "4\n",
      "5\n",
      "6\n",
      "7\n",
      "8\n",
      "9\n",
      "10\n",
      "11\n",
      "12\n",
      "13\n",
      "14\n",
      "15\n",
      "16\n",
      "Exceeded API limit, resting for 1 minute\n",
      "17\n",
      "18\n",
      "19\n",
      "20\n",
      "21\n",
      "22\n",
      "23\n",
      "24\n",
      "25\n",
      "26\n",
      "27\n",
      "28\n",
      "29\n",
      "30\n",
      "31\n",
      "32\n",
      "33\n",
      "34\n",
      "35\n",
      "36\n",
      "37\n",
      "38\n",
      "39\n",
      "40\n",
      "41\n",
      "42\n",
      "43\n",
      "44\n",
      "45\n",
      "46\n",
      "47\n",
      "48\n",
      "1\n",
      "2\n",
      "3\n",
      "4\n",
      "5\n",
      "6\n",
      "7\n",
      "8\n",
      "1\n",
      "2\n",
      "3\n",
      "4\n",
      "5\n",
      "6\n",
      "7\n",
      "8\n",
      "9\n",
      "10\n",
      "11\n",
      "12\n",
      "13\n",
      "14\n",
      "15\n",
      "16\n",
      "17\n",
      "18\n",
      "19\n",
      "20\n",
      "21\n",
      "22\n",
      "23\n",
      "24\n",
      "25\n",
      "1\n",
      "2\n",
      "3\n",
      "4\n",
      "5\n",
      "6\n",
      "7\n",
      "8\n",
      "1\n",
      "2\n",
      "3\n",
      "4\n",
      "5\n",
      "6\n",
      "7\n",
      "8\n",
      "9\n",
      "10\n",
      "11\n",
      "12\n",
      "13\n",
      "14\n",
      "15\n",
      "16\n",
      "17\n",
      "18\n",
      "19\n",
      "20\n",
      "21\n",
      "22\n",
      "23\n",
      "24\n",
      "25\n",
      "26\n",
      "27\n",
      "28\n",
      "29\n",
      "30\n",
      "31\n",
      "32\n",
      "33\n",
      "34\n",
      "35\n",
      "36\n",
      "37\n",
      "38\n",
      "39\n",
      "40\n",
      "41\n",
      "42\n",
      "43\n",
      "44\n",
      "45\n",
      "46\n",
      "47\n",
      "48\n",
      "1\n",
      "2\n",
      "3\n",
      "4\n",
      "5\n",
      "6\n",
      "7\n",
      "8\n",
      "1\n",
      "2\n",
      "3\n",
      "4\n",
      "5\n",
      "6\n",
      "7\n",
      "8\n",
      "9\n",
      "10\n",
      "11\n",
      "12\n",
      "13\n",
      "14\n",
      "15\n",
      "16\n",
      "36\n",
      "37\n",
      "38\n",
      "39\n",
      "40\n",
      "41\n",
      "42\n",
      "43\n",
      "44\n",
      "45\n",
      "46\n",
      "47\n",
      "48\n",
      "1\n",
      "2\n",
      "3\n",
      "4\n",
      "5\n",
      "6\n",
      "7\n",
      "8\n",
      "1\n",
      "2\n",
      "3\n",
      "4\n",
      "5\n",
      "6\n",
      "7\n",
      "8\n",
      "9\n",
      "10\n",
      "11\n",
      "12\n",
      "13\n",
      "14\n",
      "15\n",
      "16\n",
      "17\n",
      "1\n",
      "2\n",
      "3\n",
      "4\n",
      "5\n",
      "6\n",
      "7\n",
      "8\n",
      "1\n",
      "2\n",
      "3\n",
      "4\n",
      "5\n",
      "6\n",
      "7\n",
      "8\n",
      "9\n",
      "10\n",
      "11\n",
      "12\n",
      "13\n",
      "14\n",
      "15\n",
      "16\n",
      "17\n",
      "18\n",
      "19\n",
      "1\n",
      "2\n",
      "3\n",
      "4\n",
      "5\n",
      "6\n",
      "7\n",
      "8\n",
      "1\n",
      "2\n",
      "3\n",
      "4\n",
      "5\n",
      "6\n",
      "7\n",
      "8\n",
      "9\n",
      "10\n",
      "11\n",
      "12\n",
      "13\n",
      "14\n",
      "15\n",
      "16\n",
      "17\n",
      "18\n",
      "19\n",
      "34\n",
      "35\n",
      "36\n",
      "37\n",
      "38\n",
      "39\n",
      "40\n",
      "41\n",
      "42\n",
      "43\n",
      "44\n",
      "45\n",
      "46\n",
      "47\n",
      "48\n",
      "1\n",
      "2\n",
      "3\n",
      "4\n",
      "5\n",
      "6\n",
      "7\n",
      "8\n",
      "1\n",
      "2\n",
      "3\n",
      "4\n",
      "5\n",
      "6\n",
      "7\n",
      "8\n",
      "9\n",
      "10\n",
      "11\n",
      "12\n",
      "13\n",
      "14\n",
      "15\n",
      "16\n",
      "Exceeded API limit, resting for 1 minute\n",
      "17\n",
      "18\n",
      "19\n",
      "20\n",
      "21\n",
      "22\n",
      "23\n",
      "24\n",
      "25\n",
      "26\n",
      "27\n",
      "28\n",
      "29\n",
      "30\n",
      "31\n",
      "32\n",
      "33\n",
      "34\n",
      "35\n",
      "36\n",
      "37\n",
      "38\n",
      "39\n",
      "40\n",
      "41\n",
      "42\n",
      "43\n",
      "44\n",
      "45\n",
      "46\n",
      "47\n",
      "48\n",
      "1\n",
      "2\n",
      "3\n",
      "4\n",
      "5\n",
      "6\n",
      "7\n",
      "8\n",
      "1\n",
      "2\n",
      "3\n",
      "4\n",
      "5\n",
      "6\n",
      "7\n",
      "8\n",
      "9\n",
      "10\n",
      "11\n",
      "12\n",
      "13\n",
      "14\n",
      "15\n",
      "16\n",
      "17\n",
      "18\n",
      "19\n",
      "20\n",
      "21\n",
      "22\n",
      "23\n",
      "24\n",
      "25\n",
      "26\n",
      "27\n",
      "Exceeded API limit, resting for 1 minute\n",
      "28\n",
      "29\n",
      "30\n",
      "31\n",
      "32\n",
      "33\n",
      "34\n",
      "35\n",
      "36\n",
      "37\n",
      "38\n",
      "39\n",
      "40\n",
      "41\n",
      "42\n",
      "43\n",
      "44\n",
      "45\n",
      "46\n",
      "47\n",
      "48\n",
      "1\n",
      "2\n",
      "3\n",
      "4\n",
      "5\n",
      "6\n",
      "7\n",
      "8\n",
      "1\n",
      "2\n",
      "3\n",
      "4\n",
      "5\n",
      "6\n",
      "7\n",
      "8\n",
      "9\n",
      "10\n",
      "11\n",
      "12\n",
      "13\n",
      "14\n",
      "15\n",
      "16\n",
      "1\n",
      "2\n",
      "3\n",
      "4\n",
      "5\n",
      "6\n",
      "7\n",
      "8\n",
      "1\n",
      "2\n",
      "3\n",
      "4\n",
      "5\n",
      "6\n",
      "7\n",
      "8\n",
      "9\n",
      "10\n",
      "11\n",
      "12\n",
      "13\n",
      "14\n",
      "15\n",
      "16\n",
      "17\n",
      "Exceeded API limit, resting for 1 minute\n",
      "18\n",
      "19\n",
      "20\n",
      "21\n",
      "22\n",
      "23\n",
      "24\n",
      "25\n",
      "26\n",
      "27\n",
      "28\n",
      "29\n",
      "30\n",
      "31\n",
      "32\n",
      "33\n",
      "34\n",
      "35\n",
      "36\n",
      "37\n",
      "38\n",
      "39\n",
      "40\n",
      "41\n",
      "42\n",
      "43\n",
      "44\n",
      "45\n",
      "46\n",
      "47\n",
      "48\n",
      "1\n",
      "2\n",
      "3\n",
      "4\n",
      "5\n",
      "6\n",
      "7\n",
      "8\n",
      "1\n",
      "2\n",
      "3\n",
      "4\n",
      "5\n",
      "6\n",
      "7\n",
      "8\n",
      "9\n",
      "10\n",
      "11\n",
      "12\n",
      "13\n",
      "14\n",
      "15\n",
      "16\n",
      "1\n",
      "2\n",
      "3\n",
      "4\n",
      "5\n",
      "6\n",
      "7\n",
      "8\n",
      "1\n",
      "2\n",
      "3\n",
      "Exceeded API limit, resting for 1 minute\n",
      "4\n",
      "5\n",
      "6\n",
      "7\n",
      "8\n",
      "9\n",
      "10\n",
      "11\n",
      "12\n",
      "13\n",
      "14\n",
      "15\n",
      "16\n",
      "17\n",
      "18\n",
      "19\n",
      "20\n",
      "21\n",
      "22\n",
      "23\n",
      "24\n",
      "25\n",
      "26\n",
      "27\n",
      "28\n",
      "29\n",
      "30\n",
      "31\n",
      "32\n",
      "33\n",
      "34\n",
      "35\n",
      "Exceeded API limit, resting for 1 minute\n",
      "36\n",
      "37\n",
      "38\n",
      "39\n",
      "40\n",
      "41\n",
      "42\n",
      "43\n",
      "44\n",
      "45\n",
      "46\n",
      "47\n",
      "48\n",
      "1\n",
      "2\n",
      "3\n",
      "4\n",
      "5\n",
      "6\n",
      "7\n",
      "8\n",
      "1\n",
      "2\n",
      "3\n",
      "4\n",
      "5\n",
      "6\n",
      "7\n",
      "8\n",
      "9\n",
      "10\n",
      "11\n",
      "12\n",
      "13\n",
      "14\n",
      "15\n",
      "16\n",
      "17\n",
      "18\n",
      "19\n",
      "20\n",
      "21\n",
      "22\n",
      "Exceeded API limit, resting for 1 minute\n",
      "23\n",
      "24\n",
      "25\n",
      "26\n",
      "27\n",
      "28\n",
      "29\n",
      "30\n",
      "31\n",
      "32\n",
      "33\n",
      "34\n",
      "35\n",
      "36\n",
      "37\n",
      "38\n",
      "39\n",
      "40\n",
      "41\n",
      "42\n",
      "43\n",
      "44\n",
      "45\n",
      "1\n",
      "2\n",
      "3\n",
      "4\n",
      "5\n",
      "6\n",
      "7\n",
      "8\n",
      "1\n",
      "2\n",
      "3\n",
      "4\n",
      "5\n",
      "6\n",
      "7\n",
      "8\n",
      "9\n",
      "10\n",
      "11\n",
      "12\n",
      "13\n",
      "14\n",
      "15\n",
      "16\n",
      "17\n",
      "18\n",
      "19\n",
      "20\n",
      "Exceeded API limit, resting for 1 minute\n",
      "21\n",
      "22\n",
      "23\n",
      "24\n",
      "25\n",
      "26\n",
      "27\n",
      "28\n",
      "29\n",
      "30\n",
      "31\n",
      "32\n",
      "33\n",
      "34\n",
      "35\n",
      "36\n",
      "37\n",
      "38\n",
      "39\n",
      "40\n",
      "41\n",
      "42\n",
      "43\n",
      "44\n",
      "45\n",
      "46\n",
      "47\n",
      "48\n",
      "1\n",
      "2\n",
      "3\n",
      "4\n",
      "5\n",
      "6\n",
      "7\n",
      "8\n",
      "1\n",
      "2\n",
      "3\n",
      "4\n",
      "5\n",
      "6\n",
      "7\n",
      "8\n",
      "9\n",
      "10\n",
      "11\n",
      "12\n",
      "13\n",
      "14\n",
      "15\n",
      "16\n",
      "17\n",
      "18\n",
      "19\n",
      "20\n",
      "21\n",
      "22\n",
      "23\n",
      "24\n",
      "25\n",
      "26\n",
      "27\n",
      "28\n",
      "29\n",
      "30\n",
      "31\n",
      "32\n",
      "33\n",
      "34\n",
      "35\n",
      "36\n",
      "37\n",
      "38\n",
      "39\n",
      "40\n",
      "41\n",
      "42\n",
      "43\n",
      "44\n",
      "Exceeded API limit, resting for 1 minute\n",
      "45\n",
      "46\n",
      "47\n",
      "48\n",
      "1\n",
      "2\n",
      "3\n",
      "4\n",
      "5\n",
      "6\n",
      "7\n",
      "8\n",
      "1\n",
      "2\n",
      "3\n",
      "4\n",
      "5\n",
      "6\n",
      "7\n",
      "8\n",
      "9\n",
      "10\n",
      "11\n",
      "12\n",
      "13\n",
      "14\n",
      "15\n",
      "16\n",
      "17\n",
      "18\n",
      "19\n",
      "20\n",
      "21\n",
      "22\n",
      "1\n",
      "2\n",
      "3\n",
      "4\n",
      "5\n",
      "6\n",
      "7\n",
      "8\n"
     ]
    }
   ],
   "source": [
    "iterator = 0\n",
    "dfFinal = finalDfGenerator(airportName[0],iterator)\n",
    "for i in range(len(airportName) - 1):\n",
    "    iterator = iterator + 1\n",
    "    tempDf = finalDfGenerator(airportName[i + 1],iterator)\n",
    "    dfFinal = pd.concat([dfFinal,tempDf])"
   ]
  },
  {
   "cell_type": "code",
   "execution_count": 45,
   "metadata": {},
   "outputs": [
    {
     "data": {
      "text/plain": [
       "605"
      ]
     },
     "execution_count": 45,
     "metadata": {},
     "output_type": "execute_result"
    }
   ],
   "source": [
    "len(dfFinal)"
   ]
  },
  {
   "cell_type": "code",
   "execution_count": null,
   "metadata": {},
   "outputs": [],
   "source": []
  },
  {
   "cell_type": "code",
   "execution_count": null,
   "metadata": {},
   "outputs": [],
   "source": []
  }
 ],
 "metadata": {
  "kernelspec": {
   "display_name": "Python 3",
   "language": "python",
   "name": "python3"
  },
  "language_info": {
   "codemirror_mode": {
    "name": "ipython",
    "version": 3
   },
   "file_extension": ".py",
   "mimetype": "text/x-python",
   "name": "python",
   "nbconvert_exporter": "python",
   "pygments_lexer": "ipython3",
   "version": "3.7.1"
  }
 },
 "nbformat": 4,
 "nbformat_minor": 2
}
